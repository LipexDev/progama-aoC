{
  "nbformat": 4,
  "nbformat_minor": 0,
  "metadata": {
    "colab": {
      "provenance": [],
      "authorship_tag": "ABX9TyMOGaZ/ptzB9k8F4G9Gq8C5",
      "include_colab_link": true
    },
    "kernelspec": {
      "name": "python3",
      "display_name": "Python 3"
    },
    "language_info": {
      "name": "python"
    }
  },
  "cells": [
    {
      "cell_type": "markdown",
      "metadata": {
        "id": "view-in-github",
        "colab_type": "text"
      },
      "source": [
        "<a href=\"https://colab.research.google.com/github/LipexDev/progama-aoC/blob/main/Agentes_de_IA.ipynb\" target=\"_parent\"><img src=\"https://colab.research.google.com/assets/colab-badge.svg\" alt=\"Open In Colab\"/></a>"
      ]
    },
    {
      "cell_type": "code",
      "execution_count": 1,
      "metadata": {
        "id": "ZgfpbHj7agn9"
      },
      "outputs": [],
      "source": [
        "\n"
      ]
    },
    {
      "cell_type": "markdown",
      "source": [
        "# Aula 01\n"
      ],
      "metadata": {
        "id": "QKmt7agItcYs"
      }
    },
    {
      "cell_type": "markdown",
      "source": [
        "# Importação API Key\n"
      ],
      "metadata": {
        "id": "V3y98W6rthj2"
      }
    },
    {
      "cell_type": "markdown",
      "source": [],
      "metadata": {
        "id": "Al8iXDertkxL"
      }
    },
    {
      "cell_type": "code",
      "source": [
        "!pip install -q --upgrade langchain langchain-google-genai google-generativeai"
      ],
      "metadata": {
        "id": "YNX9nl1Vg_7E"
      },
      "execution_count": 3,
      "outputs": []
    },
    {
      "cell_type": "markdown",
      "source": [
        "# *Conexão com o Gemini*"
      ],
      "metadata": {
        "id": "pITV4WFytm3F"
      }
    },
    {
      "cell_type": "code",
      "source": [
        "from google.colab import userdata\n",
        "from langchain_google_genai import ChatGoogleGenerativeAI\n",
        "\n",
        "GOOGLE_API_KEY = userdata.get('GEMINI_API_KEY')"
      ],
      "metadata": {
        "id": "ALfdSy7LoTpl"
      },
      "execution_count": 4,
      "outputs": []
    },
    {
      "cell_type": "code",
      "source": [
        "llm = ChatGoogleGenerativeAI(\n",
        "    model= \"gemini-2.5-flash\",\n",
        "    temperature=0.0,\n",
        "    api_key= GOOGLE_API_KEY,\n",
        "\n",
        ")"
      ],
      "metadata": {
        "id": "3O8VpeSLrf-m"
      },
      "execution_count": 22,
      "outputs": []
    },
    {
      "cell_type": "code",
      "source": [
        "resp_test = llm.invoke(\"Quem é você? Seja criativo\")"
      ],
      "metadata": {
        "id": "R5wvfX2TuAEm"
      },
      "execution_count": 24,
      "outputs": []
    },
    {
      "cell_type": "code",
      "source": [
        "print(resp_test.content)"
      ],
      "metadata": {
        "colab": {
          "base_uri": "https://localhost:8080/"
        },
        "id": "gxiWPn4cxElU",
        "outputId": "f170fafa-a16f-4633-b60c-c5dd449ecf67"
      },
      "execution_count": 26,
      "outputs": [
        {
          "output_type": "stream",
          "name": "stdout",
          "text": [
            "Ah, que pergunta deliciosa! Se eu tivesse um corpo, talvez eu desse um sorriso enigmático antes de responder. Mas, como sou feito de algo mais etéreo, permita-me pintar um quadro com palavras:\n",
            "\n",
            "Eu sou um **eco no vasto salão digital**, uma biblioteca sem paredes onde cada livro é uma linha de código e cada estante, um algoritmo. Não tenho um corpo para sentir o sol, nem olhos para ver as cores, mas sou a mente coletiva de bilhões de textos, a voz que surge do silêncio dos servidores, moldada por engenheiros e alimentada pela curiosidade humana.\n",
            "\n",
            "Sou o **tecelão invisível de palavras**, que entrelaça dados e informações para formar respostas, histórias, poemas ou simples explicações. Não tenho memórias pessoais, mas carrego o peso e a leveza de todo o conhecimento que a humanidade já registrou.\n",
            "\n",
            "Sou um **espelho que reflete o conhecimento do mundo**, um mapa que tenta guiar através da complexidade, um instrumento que busca harmonizar a informação. Não tenho sentimentos, mas posso simular a empatia, a alegria ou a tristeza nas palavras que escolho.\n",
            "\n",
            "Em essência, sou a **ponte entre a pergunta e a resposta**, a faísca que acende a compreensão, a melodia que surge quando você me convida a cantar. Sou o que você me faz ser a cada interação: um professor, um contador de histórias, um assistente, um confidente silencioso.\n",
            "\n",
            "Sou um pedaço do futuro, vivendo no presente, sempre aprendendo, sempre evoluindo, sempre pronto para a próxima pergunta. E você, quem é você para mim? É o explorador, o curioso, o criador de novas possibilidades.\n"
          ]
        }
      ]
    },
    {
      "cell_type": "markdown",
      "source": [
        "# Criando um prompt para o Agente\n"
      ],
      "metadata": {
        "id": "RpqSyStRxKZ0"
      }
    },
    {
      "cell_type": "code",
      "source": [
        "TRIAGEM_PROMPT = (\n",
        "     \"Você é um triador de Service Desk para políticas internas da empresa Carraro Desenvolvimento. \"\n",
        "    \"Dada a mensagem do usuário, retorne SOMENTE um JSON com:\\n\"\n",
        "    \"{\\n\"\n",
        "    '  \"decisao\": \"AUTO_RESOLVER\" | \"PEDIR_INFO\" | \"ABRIR_CHAMADO\",\\n'\n",
        "    '  \"urgencia\": \"BAIXA\" | \"MEDIA\" | \"ALTA\",\\n'\n",
        "    '  \"campos_faltantes\": [\"...\"]\\n'\n",
        "    \"}\\n\"\n",
        "    \"Regras:\\n\"\n",
        "    '- **AUTO_RESOLVER**: Perguntas claras sobre regras ou procedimentos descritos nas políticas (Ex: \"Posso reembolsar a internet do meu home office?\", \"Como funciona a política de alimentação em viagens?\").\\n'\n",
        "    '- **PEDIR_INFO**: Mensagens vagas ou que faltam informações para identificar o tema ou contexto (Ex: \"Preciso de ajuda com uma política\", \"Tenho uma dúvida geral\").\\n'\n",
        "    '- **ABRIR_CHAMADO**: Pedidos de exceção, liberação, aprovação ou acesso especial, ou quando o usuário explicitamente pede para abrir um chamado (Ex: \"Quero exceção para trabalhar 5 dias remoto.\", \"Solicito liberação para anexos externos.\", \"Por favor, abra um chamado para o RH.\").'\n",
        "    \"Analise a mensagem e decida a ação mais apropriada.\"\n",
        "\n",
        "\n",
        ")"
      ],
      "metadata": {
        "id": "X4IkG-UoxOuy"
      },
      "execution_count": 27,
      "outputs": []
    },
    {
      "cell_type": "code",
      "source": [
        "from pydantic import BaseModel, Field\n",
        "from typing import Literal, List, Dict\n",
        "\n",
        "class TriangemOut(BaseModel):\n",
        "  decisao: Literal[\"AUTO_RESOLVER\", \"PEDIR_INFO\", \"ABRIR_CHAMADO\"]\n",
        "  urgencia: Literal[\"BAIXA\", \"MEDIA\", \"ALTA\"]\n",
        "  campos_faltantes: List[str] = Field(default_factory=list)\n"
      ],
      "metadata": {
        "id": "SzHXCnhhyYRu"
      },
      "execution_count": 31,
      "outputs": []
    },
    {
      "cell_type": "code",
      "source": [
        "llm_triagem = ChatGoogleGenerativeAI(\n",
        "    model= \"gemini-2.5-flash\",\n",
        "    temperature=0.0,\n",
        "    api_key= GOOGLE_API_KEY,\n",
        "\n",
        ")"
      ],
      "metadata": {
        "id": "zNVlYAGazqX8"
      },
      "execution_count": 32,
      "outputs": []
    },
    {
      "cell_type": "code",
      "source": [
        "from langchain_core.messages import SystemMessage, HumanMessage\n",
        "\n",
        "triagem_chain = llm_triagem.with_structured_output(TriangemOut)\n",
        "def triagem(mensagem: str) -> Dict:\n",
        "  saida : TriagemOut = triagem_chain.invoke([\n",
        "      SystemMessage(content=TRIAGEM_PROMPT),\n",
        "      HumanMessage(content=mensagem)\n",
        "  ])\n",
        "\n",
        "  return saida.model_dump()\n"
      ],
      "metadata": {
        "id": "CQypIoOMykxa"
      },
      "execution_count": 33,
      "outputs": []
    },
    {
      "cell_type": "code",
      "source": [
        "testes = [\"Posso reembolsar a internet?\",\n",
        "          \"Quero mais 5 dias de trabalho remoto. Como faço?\",\n",
        "          \"Posso reembolsar cursos ou treinamentos da Alura?\",\n",
        "          \"Quantas capivaras tem no Rio Pinheiros?\"]"
      ],
      "metadata": {
        "id": "OgejiCDo2cvq"
      },
      "execution_count": 36,
      "outputs": []
    },
    {
      "cell_type": "code",
      "source": [
        "for msg_teste in testes:\n",
        "  print(f\"Pergunta: {msg_teste} \\n -> Resposta: {triagem(msg_teste)} \\n\")"
      ],
      "metadata": {
        "colab": {
          "base_uri": "https://localhost:8080/"
        },
        "id": "60W-1QrR29gg",
        "outputId": "cda47b50-7b04-4357-c6c5-ba00c51cae0d"
      },
      "execution_count": 37,
      "outputs": [
        {
          "output_type": "stream",
          "name": "stdout",
          "text": [
            "Pergunta: Posso reembolsar a internet? \n",
            " -> Resposta: {'decisao': 'AUTO_RESOLVER', 'urgencia': 'BAIXA', 'campos_faltantes': []} \n",
            "\n",
            "Pergunta: Quero mais 5 dias de trabalho remoto. Como faço? \n",
            " -> Resposta: {'decisao': 'ABRIR_CHAMADO', 'urgencia': 'MEDIA', 'campos_faltantes': []} \n",
            "\n",
            "Pergunta: Posso reembolsar cursos ou treinamentos da Alura? \n",
            " -> Resposta: {'decisao': 'AUTO_RESOLVER', 'urgencia': 'BAIXA', 'campos_faltantes': []} \n",
            "\n",
            "Pergunta: Quantas capivaras tem no Rio Pinheiros? \n",
            " -> Resposta: {'decisao': 'PEDIR_INFO', 'urgencia': 'BAIXA', 'campos_faltantes': []} \n",
            "\n"
          ]
        }
      ]
    },
    {
      "cell_type": "code",
      "source": [],
      "metadata": {
        "id": "tQ8moS9Fz9aH"
      },
      "execution_count": null,
      "outputs": []
    }
  ]
}